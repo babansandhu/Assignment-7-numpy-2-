{
 "cells": [
  {
   "cell_type": "code",
   "execution_count": 18,
   "metadata": {},
   "outputs": [],
   "source": [
    "\n",
    "def sliding_window(data, size, stepsize=1, padded=False, axis=-1, copy=True):\n",
    "    if axis >= data.ndim:\n",
    "        raise ValueError(\n",
    "            \"Axis value out of range\"\n",
    "        )\n",
    "\n",
    "    if stepsize < 1:\n",
    "        raise ValueError(\n",
    "            \"Stepsize may not be zero or negative\"\n",
    "        )\n",
    "\n",
    "    if size > data.shape[axis]:\n",
    "        raise ValueError(\n",
    "            \"Sliding window size may not exceed size of selected axis\"\n",
    "        )\n",
    "\n",
    "    shape = list(data.shape)\n",
    "    shape[axis] = numpy.floor(data.shape[axis] / stepsize - size / stepsize + 1).astype(int)\n",
    "    shape.append(size)\n",
    "\n",
    "    strides = list(data.strides)\n",
    "    strides[axis] *= stepsize\n",
    "    strides.append(data.strides[axis])\n",
    "\n",
    "    strided = numpy.lib.stride_tricks.as_strided(\n",
    "        data, shape=shape, strides=strides\n",
    "    )\n",
    "\n",
    "    if copy:\n",
    "        return strided.copy()\n",
    "    else:\n",
    "        return strided"
   ]
  },
  {
   "cell_type": "code",
   "execution_count": 27,
   "metadata": {},
   "outputs": [
    {
     "data": {
      "text/plain": [
       "array([[  3,   5,   7],\n",
       "       [  5,   7,   2],\n",
       "       [  7,   2,   8],\n",
       "       [  2,   8,  10],\n",
       "       [  8,  10,  11],\n",
       "       [ 10,  11,  65],\n",
       "       [ 11,  65,  72],\n",
       "       [ 65,  72,  81],\n",
       "       [ 72,  81,  99],\n",
       "       [ 81,  99, 100],\n",
       "       [ 99, 100, 150]])"
      ]
     },
     "execution_count": 27,
     "metadata": {},
     "output_type": "execute_result"
    }
   ],
   "source": [
    "import numpy as np\n",
    "a = np.array([3,5,7,2,8,10,11,65,72,81,99,100,150])\n",
    "sliding_window(a, size=3)\n"
   ]
  },
  {
   "cell_type": "code",
   "execution_count": 28,
   "metadata": {},
   "outputs": [
    {
     "name": "stdout",
     "output_type": "stream",
     "text": [
      "[  5.           4.66666667   5.66666667   6.66666667   9.66666667\n",
      "  28.66666667  49.33333333  72.66666667  84.          93.33333333\n",
      " 116.33333333]\n"
     ]
    }
   ],
   "source": [
    "import numpy as np\n",
    "a = np.array([3,5,7,2,8,10,11,65,72,81,99,100,150])\n",
    "a_strided=sliding_window(a, size=3)\n",
    "print (np.average(a_strided, axis=1))"
   ]
  },
  {
   "cell_type": "code",
   "execution_count": null,
   "metadata": {},
   "outputs": [],
   "source": []
  },
  {
   "cell_type": "code",
   "execution_count": null,
   "metadata": {},
   "outputs": [],
   "source": []
  },
  {
   "cell_type": "code",
   "execution_count": null,
   "metadata": {},
   "outputs": [],
   "source": []
  },
  {
   "cell_type": "code",
   "execution_count": null,
   "metadata": {},
   "outputs": [],
   "source": []
  },
  {
   "cell_type": "code",
   "execution_count": null,
   "metadata": {},
   "outputs": [],
   "source": []
  },
  {
   "cell_type": "code",
   "execution_count": null,
   "metadata": {},
   "outputs": [],
   "source": []
  },
  {
   "cell_type": "code",
   "execution_count": null,
   "metadata": {},
   "outputs": [],
   "source": []
  },
  {
   "cell_type": "code",
   "execution_count": null,
   "metadata": {},
   "outputs": [],
   "source": []
  },
  {
   "cell_type": "code",
   "execution_count": null,
   "metadata": {},
   "outputs": [],
   "source": []
  },
  {
   "cell_type": "code",
   "execution_count": null,
   "metadata": {},
   "outputs": [],
   "source": []
  },
  {
   "cell_type": "code",
   "execution_count": null,
   "metadata": {},
   "outputs": [],
   "source": []
  },
  {
   "cell_type": "code",
   "execution_count": null,
   "metadata": {},
   "outputs": [],
   "source": []
  },
  {
   "cell_type": "code",
   "execution_count": null,
   "metadata": {},
   "outputs": [],
   "source": []
  }
 ],
 "metadata": {
  "kernelspec": {
   "display_name": "Python 3",
   "language": "python",
   "name": "python3"
  },
  "language_info": {
   "codemirror_mode": {
    "name": "ipython",
    "version": 3
   },
   "file_extension": ".py",
   "mimetype": "text/x-python",
   "name": "python",
   "nbconvert_exporter": "python",
   "pygments_lexer": "ipython3",
   "version": "3.6.5"
  }
 },
 "nbformat": 4,
 "nbformat_minor": 2
}
